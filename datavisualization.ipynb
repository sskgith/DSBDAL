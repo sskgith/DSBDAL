#!/usr/bin/env python
# coding: utf-8

# In[1]:


import pandas as pd
import seaborn as sns
import numpy as np
import matplotlib.pyplot as plt


# In[2]:


dataset=pd.read_csv("titanic.csv")


# In[3]:


print(dataset)


# In[4]:


dataset.isnull()


# In[5]:


dataset.head()


# In[6]:


sns.set_style('whitegrid')


# In[7]:


sns.countplot(x='Survived',data=dataset)


# In[8]:


sns.countplot(x='Survived',hue='Sex',data=dataset)


# In[9]:


sns.heatmap(dataset.isnull(),yticklabels=False,cbar=False,cmap='viridis')


# In[10]:


sns.heatmap(dataset.isnull(),yticklabels=True,cbar=False,cmap='viridis')


# In[11]:


sns.heatmap(dataset.isnull(),yticklabels=False,cbar=True,cmap='viridis')


# In[12]:


sns.heatmap(dataset.isnull(),yticklabels=True,cbar=True,cmap='viridis')


# In[13]:


sns.heatmap(dataset.notnull(),yticklabels=False,cbar=True,cmap='viridis')


# In[14]:


sns.countplot(x='Pclass',hue='Sex',data=dataset)


# In[15]:


sns.histplot(x='Fare',hue='Pclass',data=dataset)


# In[ ]:





# In[ ]:




